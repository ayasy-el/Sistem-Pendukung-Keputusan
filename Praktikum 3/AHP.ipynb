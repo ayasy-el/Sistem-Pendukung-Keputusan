{
  "cells": [
    {
      "cell_type": "code",
      "execution_count": 1,
      "metadata": {
        "id": "R7Z6SxJw01ql",
        "outputId": "5545ce75-5d74-46a3-dce5-72a39afa8804",
        "colab": {
          "base_uri": "https://localhost:8080/"
        }
      },
      "outputs": [
        {
          "output_type": "stream",
          "name": "stdout",
          "text": [
            "[[1, 5, 7], [0.2, 1, 3], [0.14285714285714285, 0.3333333333333333, 1]]\n"
          ]
        }
      ],
      "source": [
        "import numpy as np\n",
        "\n",
        "alternatif = [\"CV Sejahtera\", \"CV Mandiri\", \"CV Bersama\"]\n",
        "kriteria = [\"Harga\", \"Kualitas\", \"Waktu\"]\n",
        "\n",
        "alternatif_kriteria = [\n",
        "    [1, 5, 7],\n",
        "    [1 / 5, 1, 3],\n",
        "    [1 / 7, 1 / 3, 1],\n",
        "]\n",
        "\n",
        "print(alternatif_kriteria)"
      ]
    },
    {
      "cell_type": "code",
      "execution_count": 2,
      "metadata": {
        "id": "_YsT03m001qm",
        "outputId": "6c08b7a9-8720-443b-c403-db41ae0aa125",
        "colab": {
          "base_uri": "https://localhost:8080/"
        }
      },
      "outputs": [
        {
          "output_type": "stream",
          "name": "stdout",
          "text": [
            "[ 1.34285714  6.33333333 11.        ]\n"
          ]
        }
      ],
      "source": [
        "jumlah_sum = np.sum(alternatif_kriteria, axis=0)\n",
        "print(jumlah_sum)"
      ]
    },
    {
      "cell_type": "code",
      "execution_count": 3,
      "metadata": {
        "id": "onLE72ys01qn",
        "outputId": "40ef0e25-30c4-4089-909c-bc86f80c6d68",
        "colab": {
          "base_uri": "https://localhost:8080/"
        }
      },
      "outputs": [
        {
          "output_type": "stream",
          "name": "stdout",
          "text": [
            "[[0.74468085 0.78947368 0.63636364]\n",
            " [0.14893617 0.15789474 0.27272727]\n",
            " [0.10638298 0.05263158 0.09090909]]\n"
          ]
        }
      ],
      "source": [
        "normalisasi = alternatif_kriteria / jumlah_sum\n",
        "print(normalisasi)"
      ]
    },
    {
      "cell_type": "code",
      "execution_count": 4,
      "metadata": {
        "id": "as_SczAN01qn",
        "outputId": "f6b71c95-816d-4bcd-f973-150aa950d166",
        "colab": {
          "base_uri": "https://localhost:8080/"
        }
      },
      "outputs": [
        {
          "output_type": "stream",
          "name": "stdout",
          "text": [
            "[[2.17051817]\n",
            " [0.57955818]\n",
            " [0.24992365]]\n"
          ]
        }
      ],
      "source": [
        "prioritas = np.sum(normalisasi, axis=1).reshape(-1, 1)\n",
        "print(prioritas)\n"
      ]
    },
    {
      "cell_type": "code",
      "execution_count": 5,
      "metadata": {
        "id": "mgnZqPBp01qn",
        "outputId": "bee013a5-7bdc-4b69-92e8-5ff8818474be",
        "colab": {
          "base_uri": "https://localhost:8080/"
        }
      },
      "outputs": [
        {
          "output_type": "stream",
          "name": "stdout",
          "text": [
            "[[0.72350606]\n",
            " [0.19318606]\n",
            " [0.08330788]]\n"
          ]
        }
      ],
      "source": [
        "bobot_kriteria = prioritas / np.sum(prioritas)\n",
        "print(bobot_kriteria)\n"
      ]
    },
    {
      "cell_type": "code",
      "execution_count": 6,
      "metadata": {
        "id": "zED1WbZ501qo",
        "outputId": "a7b57845-3314-4b90-a287-8a73db159116",
        "colab": {
          "base_uri": "https://localhost:8080/"
        }
      },
      "outputs": [
        {
          "output_type": "stream",
          "name": "stdout",
          "text": [
            "[[0.97156528]\n",
            " [1.22351171]\n",
            " [0.91638671]]\n",
            "3.1114637011613495\n"
          ]
        }
      ],
      "source": [
        "eigen_value = bobot_kriteria * jumlah_sum.reshape(-1, 1)\n",
        "print(eigen_value)\n",
        "\n",
        "total_eigen = np.sum(eigen_value)\n",
        "print(total_eigen)"
      ]
    },
    {
      "cell_type": "code",
      "execution_count": 7,
      "metadata": {
        "id": "exc4zoQM01qo",
        "outputId": "48a03193-6c53-4295-b2a8-9b8fa7ac29aa",
        "colab": {
          "base_uri": "https://localhost:8080/"
        }
      },
      "outputs": [
        {
          "output_type": "stream",
          "name": "stdout",
          "text": [
            "0.09608939755288752\n"
          ]
        }
      ],
      "source": [
        "n = len(kriteria)\n",
        "random_index = {\n",
        "    1: 0,\n",
        "    2: 0,\n",
        "    3: 0.58,\n",
        "    4: 0.9,\n",
        "    5: 1.12,\n",
        "    6: 1.24,\n",
        "    7: 1.32,\n",
        "    8: 1.41,\n",
        "    9: 1.45,\n",
        "    10: 1.49,\n",
        "}\n",
        "\n",
        "CI = (total_eigen - n) / (n - 1)\n",
        "RI = random_index[n]\n",
        "\n",
        "CR = CI / RI\n",
        "print(CR)"
      ]
    },
    {
      "cell_type": "code",
      "execution_count": 8,
      "metadata": {
        "id": "fnw0uyeB01qo",
        "outputId": "8ec6cdc6-425a-4d63-bfd3-c35612d1ac50",
        "colab": {
          "base_uri": "https://localhost:8080/"
        }
      },
      "outputs": [
        {
          "output_type": "stream",
          "name": "stdout",
          "text": [
            "Konsisten (CR<=0.1)\n"
          ]
        }
      ],
      "source": [
        "if CR <= 0.1:\n",
        "    print(\"Konsisten (CR<=0.1)\")\n",
        "else:\n",
        "    print(\"Tidak Konsisten (CR>0.1)\")"
      ]
    },
    {
      "cell_type": "code",
      "execution_count": 9,
      "metadata": {
        "id": "xLg-7aQw01qo",
        "outputId": "b4ff707c-8707-4a31-8958-12d4268a0570",
        "colab": {
          "base_uri": "https://localhost:8080/"
        }
      },
      "outputs": [
        {
          "output_type": "stream",
          "name": "stdout",
          "text": [
            "[[0.54920635]\n",
            " [0.33121693]\n",
            " [0.11957672]]\n"
          ]
        }
      ],
      "source": [
        "alternatif_harga = [\n",
        "    [1, 3, 3],\n",
        "    [1 / 3, 1, 5],\n",
        "    [1 / 3, 1 / 5, 1],\n",
        "]\n",
        "\n",
        "jumlah_sum_harga = np.sum(alternatif_harga, axis=0)\n",
        "normalisasi_harga = alternatif_harga / jumlah_sum_harga\n",
        "prioritas_harga = np.sum(normalisasi_harga, axis=1).reshape(-1, 1)\n",
        "\n",
        "bobot_harga = prioritas_harga / np.sum(prioritas_harga)\n",
        "print(bobot_harga)"
      ]
    },
    {
      "cell_type": "code",
      "execution_count": 10,
      "metadata": {
        "id": "rZkcAJFm01qp",
        "outputId": "8080285f-d51e-410b-e05e-bd0dd49bd395",
        "colab": {
          "base_uri": "https://localhost:8080/"
        }
      },
      "outputs": [
        {
          "output_type": "stream",
          "name": "stdout",
          "text": [
            "[[0.5322884 ]\n",
            " [0.35924765]\n",
            " [0.10846395]]\n"
          ]
        }
      ],
      "source": [
        "alternatif_kualitas = [\n",
        "    [1, 3, 3],\n",
        "    [1 / 3, 1, 7],\n",
        "    [1 / 3, 1 / 7, 1],\n",
        "]\n",
        "\n",
        "jumlah_sum_kualitas = np.sum(alternatif_kualitas, axis=0)\n",
        "normalisasi_kualitas = alternatif_kualitas / jumlah_sum_kualitas\n",
        "prioritas_kualitas = np.sum(normalisasi_kualitas, axis=1).reshape(-1, 1)\n",
        "\n",
        "bobot_kualitas = prioritas_kualitas / np.sum(prioritas_kualitas)\n",
        "print(bobot_kualitas)"
      ]
    },
    {
      "cell_type": "code",
      "execution_count": 11,
      "metadata": {
        "id": "qQ9kLWAo01qp",
        "outputId": "bb147347-d1ca-4074-bf8e-ceced357233c",
        "colab": {
          "base_uri": "https://localhost:8080/"
        }
      },
      "outputs": [
        {
          "output_type": "stream",
          "name": "stdout",
          "text": [
            "[[0.42857143]\n",
            " [0.36507937]\n",
            " [0.20634921]]\n"
          ]
        }
      ],
      "source": [
        "alternatif_waktu = [\n",
        "    [1, 3, 1],\n",
        "    [1 / 3, 1, 5],\n",
        "    [1, 1 / 5, 1],\n",
        "]\n",
        "\n",
        "jumlah_sum_waktu = np.sum(alternatif_waktu, axis=0)\n",
        "normalisasi_waktu = alternatif_waktu / jumlah_sum_waktu\n",
        "prioritas_waktu = np.sum(normalisasi_waktu, axis=1).reshape(-1, 1)\n",
        "\n",
        "bobot_waktu = prioritas_waktu / np.sum(prioritas_waktu)\n",
        "print(bobot_waktu)"
      ]
    },
    {
      "cell_type": "code",
      "execution_count": 12,
      "metadata": {
        "id": "u1slnp7B01qp",
        "outputId": "0914abb7-e863-48f9-8cd6-75f05c26cf02",
        "colab": {
          "base_uri": "https://localhost:8080/"
        }
      },
      "outputs": [
        {
          "output_type": "execute_result",
          "data": {
            "text/plain": [
              "array([[[0.39735412],\n",
              "        [0.23963746],\n",
              "        [0.08651448]],\n",
              "\n",
              "       [[0.1028307 ],\n",
              "        [0.06940164],\n",
              "        [0.02095372]],\n",
              "\n",
              "       [[0.03570338],\n",
              "        [0.03041399],\n",
              "        [0.01719052]]])"
            ]
          },
          "metadata": {},
          "execution_count": 12
        }
      ],
      "source": [
        "bobot_kali = [\n",
        "    bobot_harga * bobot_kriteria[0],\n",
        "    bobot_kualitas * bobot_kriteria[1],\n",
        "    bobot_waktu * bobot_kriteria[2],\n",
        "]\n",
        "\n",
        "bobot_kali = np.array(bobot_kali)\n",
        "bobot_kali"
      ]
    },
    {
      "cell_type": "code",
      "execution_count": 13,
      "metadata": {
        "id": "qpPQm39S01qq",
        "outputId": "e4ff0a67-428c-4ddb-a36a-124ef2d2174a",
        "colab": {
          "base_uri": "https://localhost:8080/"
        }
      },
      "outputs": [
        {
          "output_type": "execute_result",
          "data": {
            "text/plain": [
              "array([[0.5358882 ],\n",
              "       [0.33945308],\n",
              "       [0.12465872]])"
            ]
          },
          "metadata": {},
          "execution_count": 13
        }
      ],
      "source": [
        "skor = np.sum(bobot_kali, axis=0)\n",
        "skor"
      ]
    },
    {
      "cell_type": "code",
      "execution_count": 14,
      "metadata": {
        "id": "7z3VZy1p01qq",
        "outputId": "a72ba830-972a-4efd-e4b9-fbd87270d6f5",
        "colab": {
          "base_uri": "https://localhost:8080/"
        }
      },
      "outputs": [
        {
          "output_type": "stream",
          "name": "stdout",
          "text": [
            "Rangking Terurut:  {'CV Sejahtera': array([0.5358882]), 'CV Mandiri': array([0.33945308]), 'CV Bersama': array([0.12465872])}\n"
          ]
        }
      ],
      "source": [
        "rangking = {\n",
        "    alternatif[0]: skor[0],\n",
        "    alternatif[1]: skor[1],\n",
        "    alternatif[2]: skor[2],\n",
        "}\n",
        "\n",
        "print(\"Rangking Terurut: \", rangking)"
      ]
    },
    {
      "cell_type": "code",
      "execution_count": 15,
      "metadata": {
        "id": "icp617Je01qq",
        "outputId": "8f6dcf21-c29c-4ccd-842a-d58b19100aad",
        "colab": {
          "base_uri": "https://localhost:8080/"
        }
      },
      "outputs": [
        {
          "output_type": "stream",
          "name": "stdout",
          "text": [
            "rangking terurut:  [('CV Sejahtera', array([0.5358882])), ('CV Mandiri', array([0.33945308])), ('CV Bersama', array([0.12465872]))]\n",
            "Perusahaan terpilih adalah: CV Sejahtera dengan nilai  [0.5358882]\n"
          ]
        }
      ],
      "source": [
        "sorted_rangking = sorted(rangking.items(), key=lambda x: x[1], reverse=True)\n",
        "print(\"rangking terurut: \", sorted_rangking)\n",
        "print(\n",
        "    \"Perusahaan terpilih adalah:\",\n",
        "    sorted_rangking[0][0],\n",
        "    \"dengan nilai \",\n",
        "    sorted_rangking[0][1],\n",
        ")"
      ]
    }
  ],
  "metadata": {
    "kernelspec": {
      "display_name": "venv",
      "language": "python",
      "name": "python3"
    },
    "language_info": {
      "codemirror_mode": {
        "name": "ipython",
        "version": 3
      },
      "file_extension": ".py",
      "mimetype": "text/x-python",
      "name": "python",
      "nbconvert_exporter": "python",
      "pygments_lexer": "ipython3",
      "version": "3.13.2"
    },
    "colab": {
      "provenance": []
    }
  },
  "nbformat": 4,
  "nbformat_minor": 0
}