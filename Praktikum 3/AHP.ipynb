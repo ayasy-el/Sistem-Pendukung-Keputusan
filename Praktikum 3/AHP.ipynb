{
  "cells": [
    {
      "cell_type": "code",
      "execution_count": 1,
      "metadata": {},
      "outputs": [
        {
          "name": "stdout",
          "output_type": "stream",
          "text": [
            "[[1, 5, 7], [0.2, 1, 3], [0.14285714285714285, 0.3333333333333333, 1]]\n"
          ]
        }
      ],
      "source": [
        "import numpy as np\n",
        "\n",
        "alternatif = [\"CV Sejahtera\", \"CV Mandiri\", \"CV Bersama\"]\n",
        "kriteria = [\"Harga\", \"Kualitas\", \"Waktu\"]\n",
        "\n",
        "alternatif_kriteria = [\n",
        "    [1, 5, 7],\n",
        "    [1 / 5, 1, 3],\n",
        "    [1 / 7, 1 / 3, 1],\n",
        "]\n",
        "\n",
        "print(alternatif_kriteria)"
      ]
    },
    {
      "cell_type": "code",
      "execution_count": 2,
      "metadata": {},
      "outputs": [
        {
          "name": "stdout",
          "output_type": "stream",
          "text": [
            "[ 1.34285714  6.33333333 11.        ]\n"
          ]
        }
      ],
      "source": [
        "jumlah_sum = np.sum(alternatif_kriteria, axis=0)\n",
        "print(jumlah_sum)"
      ]
    },
    {
      "cell_type": "code",
      "execution_count": 3,
      "metadata": {},
      "outputs": [
        {
          "name": "stdout",
          "output_type": "stream",
          "text": [
            "[[0.74468085 0.78947368 0.63636364]\n",
            " [0.14893617 0.15789474 0.27272727]\n",
            " [0.10638298 0.05263158 0.09090909]]\n"
          ]
        }
      ],
      "source": [
        "normalisasi = alternatif_kriteria / jumlah_sum\n",
        "print(normalisasi)"
      ]
    },
    {
      "cell_type": "code",
      "execution_count": 4,
      "metadata": {},
      "outputs": [
        {
          "name": "stdout",
          "output_type": "stream",
          "text": [
            "[[2.17051817]\n",
            " [0.57955818]\n",
            " [0.24992365]]\n"
          ]
        }
      ],
      "source": [
        "prioritas = np.sum(normalisasi, axis=1).reshape(-1, 1)\n",
        "print(prioritas)\n"
      ]
    },
    {
      "cell_type": "code",
      "execution_count": 5,
      "metadata": {},
      "outputs": [
        {
          "name": "stdout",
          "output_type": "stream",
          "text": [
            "[[0.72350606]\n",
            " [0.19318606]\n",
            " [0.08330788]]\n"
          ]
        }
      ],
      "source": [
        "bobot_kriteria = prioritas / np.sum(prioritas)\n",
        "print(bobot_kriteria)\n"
      ]
    },
    {
      "cell_type": "code",
      "execution_count": 6,
      "metadata": {},
      "outputs": [
        {
          "name": "stdout",
          "output_type": "stream",
          "text": [
            "[[0.97156528]\n",
            " [1.22351171]\n",
            " [0.91638671]]\n",
            "3.1114637011613495\n"
          ]
        }
      ],
      "source": [
        "eigen_value = bobot_kriteria * jumlah_sum.reshape(-1, 1)\n",
        "print(eigen_value)\n",
        "\n",
        "total_eigen = np.sum(eigen_value)\n",
        "print(total_eigen)"
      ]
    },
    {
      "cell_type": "code",
      "execution_count": 7,
      "metadata": {},
      "outputs": [
        {
          "name": "stdout",
          "output_type": "stream",
          "text": [
            "0.09608939755288752\n"
          ]
        }
      ],
      "source": [
        "n = len(kriteria)\n",
        "random_index = {\n",
        "    1: 0,\n",
        "    2: 0,\n",
        "    3: 0.58,\n",
        "    4: 0.9,\n",
        "    5: 1.12,\n",
        "    6: 1.24,\n",
        "    7: 1.32,\n",
        "    8: 1.41,\n",
        "    9: 1.45,\n",
        "    10: 1.49,\n",
        "}\n",
        "\n",
        "CI = (total_eigen - n) / (n - 1)\n",
        "RI = random_index[n]\n",
        "\n",
        "CR = CI / RI\n",
        "print(CR)"
      ]
    },
    {
      "cell_type": "code",
      "execution_count": 8,
      "metadata": {},
      "outputs": [
        {
          "name": "stdout",
          "output_type": "stream",
          "text": [
            "Konsisten (CR<=0.1)\n"
          ]
        }
      ],
      "source": [
        "if CR <= 0.1:\n",
        "    print(\"Konsisten (CR<=0.1)\")\n",
        "else:\n",
        "    print(\"Tidak Konsisten (CR>0.1)\")"
      ]
    },
    {
      "cell_type": "code",
      "execution_count": 9,
      "metadata": {},
      "outputs": [
        {
          "name": "stdout",
          "output_type": "stream",
          "text": [
            "[[0.54920635]\n",
            " [0.33121693]\n",
            " [0.11957672]]\n"
          ]
        }
      ],
      "source": [
        "alternatif_harga = [\n",
        "    [1, 3, 3],\n",
        "    [1 / 3, 1, 5],\n",
        "    [1 / 3, 1 / 5, 1],\n",
        "]\n",
        "\n",
        "jumlah_sum_harga = np.sum(alternatif_harga, axis=0)\n",
        "normalisasi_harga = alternatif_harga / jumlah_sum_harga\n",
        "prioritas_harga = np.sum(normalisasi_harga, axis=1).reshape(-1, 1)\n",
        "\n",
        "bobot_harga = prioritas_harga / np.sum(prioritas_harga)\n",
        "print(bobot_harga)"
      ]
    },
    {
      "cell_type": "code",
      "execution_count": 10,
      "metadata": {},
      "outputs": [
        {
          "name": "stdout",
          "output_type": "stream",
          "text": [
            "[[0.5322884 ]\n",
            " [0.35924765]\n",
            " [0.10846395]]\n"
          ]
        }
      ],
      "source": [
        "alternatif_kualitas = [\n",
        "    [1, 3, 3],\n",
        "    [1 / 3, 1, 7],\n",
        "    [1 / 3, 1 / 7, 1],\n",
        "]\n",
        "\n",
        "jumlah_sum_kualitas = np.sum(alternatif_kualitas, axis=0)\n",
        "normalisasi_kualitas = alternatif_kualitas / jumlah_sum_kualitas\n",
        "prioritas_kualitas = np.sum(normalisasi_kualitas, axis=1).reshape(-1, 1)\n",
        "\n",
        "bobot_kualitas = prioritas_kualitas / np.sum(prioritas_kualitas)\n",
        "print(bobot_kualitas)"
      ]
    },
    {
      "cell_type": "code",
      "execution_count": 11,
      "metadata": {},
      "outputs": [
        {
          "name": "stdout",
          "output_type": "stream",
          "text": [
            "[[0.42857143]\n",
            " [0.36507937]\n",
            " [0.20634921]]\n"
          ]
        }
      ],
      "source": [
        "alternatif_waktu = [\n",
        "    [1, 3, 1],\n",
        "    [1 / 3, 1, 5],\n",
        "    [1, 1 / 5, 1],\n",
        "]\n",
        "\n",
        "jumlah_sum_waktu = np.sum(alternatif_waktu, axis=0)\n",
        "normalisasi_waktu = alternatif_waktu / jumlah_sum_waktu\n",
        "prioritas_waktu = np.sum(normalisasi_waktu, axis=1).reshape(-1, 1)\n",
        "\n",
        "bobot_waktu = prioritas_waktu / np.sum(prioritas_waktu)\n",
        "print(bobot_waktu)"
      ]
    },
    {
      "cell_type": "code",
      "execution_count": 12,
      "metadata": {},
      "outputs": [
        {
          "data": {
            "text/plain": [
              "array([[[0.39735412],\n",
              "        [0.23963746],\n",
              "        [0.08651448]],\n",
              "\n",
              "       [[0.1028307 ],\n",
              "        [0.06940164],\n",
              "        [0.02095372]],\n",
              "\n",
              "       [[0.03570338],\n",
              "        [0.03041399],\n",
              "        [0.01719052]]])"
            ]
          },
          "execution_count": 12,
          "metadata": {},
          "output_type": "execute_result"
        }
      ],
      "source": [
        "bobot_kali = [\n",
        "    bobot_harga * bobot_kriteria[0],\n",
        "    bobot_kualitas * bobot_kriteria[1],\n",
        "    bobot_waktu * bobot_kriteria[2],\n",
        "]\n",
        "\n",
        "bobot_kali = np.array(bobot_kali)\n",
        "bobot_kali"
      ]
    },
    {
      "cell_type": "code",
      "execution_count": 13,
      "metadata": {},
      "outputs": [
        {
          "data": {
            "text/plain": [
              "array([[0.5358882 ],\n",
              "       [0.33945308],\n",
              "       [0.12465872]])"
            ]
          },
          "execution_count": 13,
          "metadata": {},
          "output_type": "execute_result"
        }
      ],
      "source": [
        "skor = np.sum(bobot_kali, axis=0)\n",
        "skor"
      ]
    },
    {
      "cell_type": "code",
      "execution_count": 14,
      "metadata": {},
      "outputs": [
        {
          "name": "stdout",
          "output_type": "stream",
          "text": [
            "Rangking Terurut:  {'CV Sejahtera': array([0.5358882]), 'CV Mandiri': array([0.33945308]), 'CV Bersama': array([0.12465872])}\n"
          ]
        }
      ],
      "source": [
        "rangking = {\n",
        "    alternatif[0]: skor[0],\n",
        "    alternatif[1]: skor[1],\n",
        "    alternatif[2]: skor[2],\n",
        "}\n",
        "\n",
        "print(\"Rangking Terurut: \", rangking)"
      ]
    },
    {
      "cell_type": "code",
      "execution_count": 15,
      "metadata": {},
      "outputs": [
        {
          "name": "stdout",
          "output_type": "stream",
          "text": [
            "rangking terurut:  [('CV Sejahtera', array([0.5358882])), ('CV Mandiri', array([0.33945308])), ('CV Bersama', array([0.12465872]))]\n",
            "Perusahaan terpilih adalah: CV Sejahtera dengan nilai  [0.5358882]\n"
          ]
        }
      ],
      "source": [
        "sorted_rangking = sorted(rangking.items(), key=lambda x: x[1], reverse=True)\n",
        "print(\"rangking terurut: \", sorted_rangking)\n",
        "print(\n",
        "    \"Perusahaan terpilih adalah:\",\n",
        "    sorted_rangking[0][0],\n",
        "    \"dengan nilai \",\n",
        "    sorted_rangking[0][1],\n",
        ")"
      ]
    }
  ],
  "metadata": {
    "kernelspec": {
      "display_name": "venv",
      "language": "python",
      "name": "python3"
    },
    "language_info": {
      "codemirror_mode": {
        "name": "ipython",
        "version": 3
      },
      "file_extension": ".py",
      "mimetype": "text/x-python",
      "name": "python",
      "nbconvert_exporter": "python",
      "pygments_lexer": "ipython3",
      "version": "3.13.2"
    }
  },
  "nbformat": 4,
  "nbformat_minor": 2
}
