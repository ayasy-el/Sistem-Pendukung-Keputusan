{
  "cells": [
    {
      "cell_type": "code",
      "execution_count": 1,
      "metadata": {
        "colab": {
          "base_uri": "https://localhost:8080/"
        },
        "id": "R7Z6SxJw01ql",
        "outputId": "5545ce75-5d74-46a3-dce5-72a39afa8804"
      },
      "outputs": [
        {
          "name": "stdout",
          "output_type": "stream",
          "text": [
            "[[1, 0.5, 0.3333333333333333, 0.2], [2, 1, 0.3333333333333333, 0.25], [3, 3, 1, 0.5], [5, 4, 2, 1]]\n"
          ]
        }
      ],
      "source": [
        "import numpy as np\n",
        "\n",
        "alternatif = [\"Faruq Regency\", \"Fakhri Regency\", \"Nafisa Regency\", \"Aisha Regency\"]\n",
        "kriteria = [\"Lokasi\", \"Harga\", \"Desain\", \"Fasilitas\"]\n",
        "\n",
        "alternatif_kriteria = [\n",
        "    [1, 1 / 2, 1 / 3, 1 / 5],\n",
        "    [2, 1, 1 / 3, 1 / 4],\n",
        "    [3, 3, 1, 1 / 2],\n",
        "    [5, 4, 2, 1],\n",
        "]\n",
        "\n",
        "print(alternatif_kriteria)"
      ]
    },
    {
      "cell_type": "code",
      "execution_count": 2,
      "metadata": {
        "colab": {
          "base_uri": "https://localhost:8080/"
        },
        "id": "_YsT03m001qm",
        "outputId": "6c08b7a9-8720-443b-c403-db41ae0aa125"
      },
      "outputs": [
        {
          "name": "stdout",
          "output_type": "stream",
          "text": [
            "[11.          8.5         3.66666667  1.95      ]\n"
          ]
        }
      ],
      "source": [
        "jumlah_sum = np.sum(alternatif_kriteria, axis=0)\n",
        "print(jumlah_sum)"
      ]
    },
    {
      "cell_type": "code",
      "execution_count": 3,
      "metadata": {
        "colab": {
          "base_uri": "https://localhost:8080/"
        },
        "id": "onLE72ys01qn",
        "outputId": "40ef0e25-30c4-4089-909c-bc86f80c6d68"
      },
      "outputs": [
        {
          "name": "stdout",
          "output_type": "stream",
          "text": [
            "[[0.09090909 0.05882353 0.09090909 0.1025641 ]\n",
            " [0.18181818 0.11764706 0.09090909 0.12820513]\n",
            " [0.27272727 0.35294118 0.27272727 0.25641026]\n",
            " [0.45454545 0.47058824 0.54545455 0.51282051]]\n"
          ]
        }
      ],
      "source": [
        "normalisasi = alternatif_kriteria / jumlah_sum\n",
        "print(normalisasi)"
      ]
    },
    {
      "cell_type": "code",
      "execution_count": 4,
      "metadata": {
        "colab": {
          "base_uri": "https://localhost:8080/"
        },
        "id": "as_SczAN01qn",
        "outputId": "f6b71c95-816d-4bcd-f973-150aa950d166"
      },
      "outputs": [
        {
          "name": "stdout",
          "output_type": "stream",
          "text": [
            "[[0.34320581]\n",
            " [0.51857946]\n",
            " [1.15480598]\n",
            " [1.98340875]]\n"
          ]
        }
      ],
      "source": [
        "prioritas = np.sum(normalisasi, axis=1).reshape(-1, 1)\n",
        "print(prioritas)\n"
      ]
    },
    {
      "cell_type": "code",
      "execution_count": 5,
      "metadata": {
        "colab": {
          "base_uri": "https://localhost:8080/"
        },
        "id": "mgnZqPBp01qn",
        "outputId": "bee013a5-7bdc-4b69-92e8-5ff8818474be"
      },
      "outputs": [
        {
          "name": "stdout",
          "output_type": "stream",
          "text": [
            "[[0.08580145]\n",
            " [0.12964486]\n",
            " [0.28870149]\n",
            " [0.49585219]]\n"
          ]
        }
      ],
      "source": [
        "bobot_kriteria = prioritas / np.sum(prioritas)\n",
        "print(bobot_kriteria)\n"
      ]
    },
    {
      "cell_type": "code",
      "execution_count": 6,
      "metadata": {
        "colab": {
          "base_uri": "https://localhost:8080/"
        },
        "id": "zED1WbZ501qo",
        "outputId": "a7b57845-3314-4b90-a287-8a73db159116"
      },
      "outputs": [
        {
          "name": "stdout",
          "output_type": "stream",
          "text": [
            "[[0.94381599]\n",
            " [1.10198135]\n",
            " [1.05857215]\n",
            " [0.96691176]]\n",
            "4.07128125142831\n"
          ]
        }
      ],
      "source": [
        "eigen_value = bobot_kriteria * jumlah_sum.reshape(-1, 1)\n",
        "print(eigen_value)\n",
        "\n",
        "total_eigen = np.sum(eigen_value)\n",
        "print(total_eigen)"
      ]
    },
    {
      "cell_type": "code",
      "execution_count": 7,
      "metadata": {
        "colab": {
          "base_uri": "https://localhost:8080/"
        },
        "id": "exc4zoQM01qo",
        "outputId": "48a03193-6c53-4295-b2a8-9b8fa7ac29aa"
      },
      "outputs": [
        {
          "name": "stdout",
          "output_type": "stream",
          "text": [
            "0.026400463491966703\n"
          ]
        }
      ],
      "source": [
        "n = len(kriteria)\n",
        "random_index = {\n",
        "    1: 0,\n",
        "    2: 0,\n",
        "    3: 0.58,\n",
        "    4: 0.9,\n",
        "    5: 1.12,\n",
        "    6: 1.24,\n",
        "    7: 1.32,\n",
        "    8: 1.41,\n",
        "    9: 1.45,\n",
        "    10: 1.49,\n",
        "}\n",
        "\n",
        "CI = (total_eigen - n) / (n - 1)\n",
        "RI = random_index[n]\n",
        "\n",
        "CR = CI / RI\n",
        "print(CR)"
      ]
    },
    {
      "cell_type": "code",
      "execution_count": 8,
      "metadata": {
        "colab": {
          "base_uri": "https://localhost:8080/"
        },
        "id": "fnw0uyeB01qo",
        "outputId": "8ec6cdc6-425a-4d63-bfd3-c35612d1ac50"
      },
      "outputs": [
        {
          "name": "stdout",
          "output_type": "stream",
          "text": [
            "Konsisten (CR<=0.1)\n"
          ]
        }
      ],
      "source": [
        "if CR <= 0.1:\n",
        "    print(\"Konsisten (CR<=0.1)\")\n",
        "else:\n",
        "    print(\"Tidak Konsisten (CR>0.1)\")"
      ]
    },
    {
      "cell_type": "code",
      "execution_count": 9,
      "metadata": {
        "colab": {
          "base_uri": "https://localhost:8080/"
        },
        "id": "xLg-7aQw01qo",
        "outputId": "b4ff707c-8707-4a31-8958-12d4268a0570"
      },
      "outputs": [
        {
          "name": "stdout",
          "output_type": "stream",
          "text": [
            "[[0.1030543]\n",
            " [0.3668552]\n",
            " [0.3091629]\n",
            " [0.2209276]]\n"
          ]
        }
      ],
      "source": [
        "alternatif_lokasi = [\n",
        "    [1, 1 / 3, 1 / 3, 1 / 3],\n",
        "    [3, 1, 1, 2],\n",
        "    [3, 1, 1, 1],\n",
        "    [3, 1 / 2, 1 / 2, 1],\n",
        "]\n",
        "\n",
        "jumlah_sum_lokasi = np.sum(alternatif_lokasi, axis=0)\n",
        "normalisasi_lokasi = alternatif_lokasi / jumlah_sum_lokasi\n",
        "prioritas_lokasi = np.sum(normalisasi_lokasi, axis=1).reshape(-1, 1)\n",
        "\n",
        "bobot_lokasi = prioritas_lokasi / np.sum(prioritas_lokasi)\n",
        "print(bobot_lokasi)"
      ]
    },
    {
      "cell_type": "code",
      "execution_count": 10,
      "metadata": {
        "colab": {
          "base_uri": "https://localhost:8080/"
        },
        "id": "rZkcAJFm01qp",
        "outputId": "8080285f-d51e-410b-e05e-bd0dd49bd395"
      },
      "outputs": [
        {
          "name": "stdout",
          "output_type": "stream",
          "text": [
            "[[0.09237821]\n",
            " [0.23826908]\n",
            " [0.26099636]\n",
            " [0.40835635]]\n"
          ]
        }
      ],
      "source": [
        "alternatif_harga = [\n",
        "    [1, 1 / 3, 1 / 4, 1 / 3],\n",
        "    [3, 1, 1, 1 / 2],\n",
        "    [4, 1, 1, 1 / 2],\n",
        "    [3, 2, 2, 1],\n",
        "]\n",
        "\n",
        "jumlah_sum_harga = np.sum(alternatif_harga, axis=0)\n",
        "normalisasi_harga = alternatif_harga / jumlah_sum_harga\n",
        "prioritas_harga = np.sum(normalisasi_harga, axis=1).reshape(-1, 1)\n",
        "\n",
        "bobot_harga = prioritas_harga / np.sum(prioritas_harga)\n",
        "print(bobot_harga)"
      ]
    },
    {
      "cell_type": "code",
      "execution_count": 11,
      "metadata": {
        "colab": {
          "base_uri": "https://localhost:8080/"
        },
        "id": "qQ9kLWAo01qp",
        "outputId": "bb147347-d1ca-4074-bf8e-ceced357233c"
      },
      "outputs": [
        {
          "name": "stdout",
          "output_type": "stream",
          "text": [
            "[[0.07124897]\n",
            " [0.33161433]\n",
            " [0.38730244]\n",
            " [0.20983426]]\n"
          ]
        }
      ],
      "source": [
        "alternatif_desain = [\n",
        "    [1, 1 / 5, 1 / 4, 1 / 4],\n",
        "    [5, 1, 2 / 3, 2],\n",
        "    [4, 1.5, 1, 2],\n",
        "    [4, 1 / 2, 1 / 2, 1],\n",
        "]\n",
        "\n",
        "jumlah_sum_desain = np.sum(alternatif_desain, axis=0)\n",
        "normalisasi_desain = alternatif_desain / jumlah_sum_desain\n",
        "prioritas_desain = np.sum(normalisasi_desain, axis=1).reshape(-1, 1)\n",
        "\n",
        "bobot_desain = prioritas_desain / np.sum(prioritas_desain)\n",
        "print(bobot_desain)"
      ]
    },
    {
      "cell_type": "code",
      "execution_count": 12,
      "metadata": {},
      "outputs": [
        {
          "name": "stdout",
          "output_type": "stream",
          "text": [
            "[[0.5959596 ]\n",
            " [0.15252525]\n",
            " [0.15252525]\n",
            " [0.0989899 ]]\n"
          ]
        }
      ],
      "source": [
        "alternatif_fasilitas = [\n",
        "    [1, 5, 5, 4],\n",
        "    [1 / 5, 1, 1, 2],\n",
        "    [1 / 5, 1, 1, 2],\n",
        "    [1 / 4, 1 / 2, 1 / 2, 1],\n",
        "]\n",
        "\n",
        "jumlah_sum_fasilitas = np.sum(alternatif_fasilitas, axis=0)\n",
        "normalisasi_fasilitas = alternatif_fasilitas / jumlah_sum_fasilitas\n",
        "prioritas_fasilitas = np.sum(normalisasi_fasilitas, axis=1).reshape(-1, 1)\n",
        "\n",
        "bobot_fasilitas = prioritas_fasilitas / np.sum(prioritas_fasilitas)\n",
        "print(bobot_fasilitas)"
      ]
    },
    {
      "cell_type": "code",
      "execution_count": 13,
      "metadata": {
        "colab": {
          "base_uri": "https://localhost:8080/"
        },
        "id": "u1slnp7B01qp",
        "outputId": "0914abb7-e863-48f9-8cd6-75f05c26cf02"
      },
      "outputs": [
        {
          "data": {
            "text/plain": [
              "array([[[0.00884221],\n",
              "        [0.03147671],\n",
              "        [0.02652663],\n",
              "        [0.01895591]],\n",
              "\n",
              "       [[0.01197636],\n",
              "        [0.03089036],\n",
              "        [0.03383684],\n",
              "        [0.0529413 ]],\n",
              "\n",
              "       [[0.02056969],\n",
              "        [0.09573755],\n",
              "        [0.11181479],\n",
              "        [0.06057946]],\n",
              "\n",
              "       [[0.29550787],\n",
              "        [0.07562998],\n",
              "        [0.07562998],\n",
              "        [0.04908436]]])"
            ]
          },
          "execution_count": 13,
          "metadata": {},
          "output_type": "execute_result"
        }
      ],
      "source": [
        "bobot_kali = [\n",
        "    bobot_lokasi * bobot_kriteria[0],\n",
        "    bobot_harga * bobot_kriteria[1],\n",
        "    bobot_desain * bobot_kriteria[2],\n",
        "    bobot_fasilitas * bobot_kriteria[3],\n",
        "]\n",
        "\n",
        "bobot_kali = np.array(bobot_kali)\n",
        "bobot_kali"
      ]
    },
    {
      "cell_type": "code",
      "execution_count": 14,
      "metadata": {
        "colab": {
          "base_uri": "https://localhost:8080/"
        },
        "id": "qpPQm39S01qq",
        "outputId": "e4ff0a67-428c-4ddb-a36a-124ef2d2174a"
      },
      "outputs": [
        {
          "data": {
            "text/plain": [
              "array([[0.33689612],\n",
              "       [0.2337346 ],\n",
              "       [0.24780824],\n",
              "       [0.18156103]])"
            ]
          },
          "execution_count": 14,
          "metadata": {},
          "output_type": "execute_result"
        }
      ],
      "source": [
        "skor = np.sum(bobot_kali, axis=0)\n",
        "skor"
      ]
    },
    {
      "cell_type": "code",
      "execution_count": 15,
      "metadata": {
        "colab": {
          "base_uri": "https://localhost:8080/"
        },
        "id": "7z3VZy1p01qq",
        "outputId": "a72ba830-972a-4efd-e4b9-fbd87270d6f5"
      },
      "outputs": [
        {
          "name": "stdout",
          "output_type": "stream",
          "text": [
            "Rangking Terurut:  {'Faruq Regency': array([0.33689612]), 'Fakhri Regency': array([0.2337346]), 'Nafisa Regency': array([0.24780824]), 'Aisha Regency': array([0.18156103])}\n"
          ]
        }
      ],
      "source": [
        "rangking = {\n",
        "    alternatif[0]: skor[0],\n",
        "    alternatif[1]: skor[1],\n",
        "    alternatif[2]: skor[2],\n",
        "    alternatif[3]: skor[3],\n",
        "}\n",
        "\n",
        "print(\"Rangking Terurut: \", rangking)"
      ]
    },
    {
      "cell_type": "code",
      "execution_count": 16,
      "metadata": {
        "colab": {
          "base_uri": "https://localhost:8080/"
        },
        "id": "icp617Je01qq",
        "outputId": "8f6dcf21-c29c-4ccd-842a-d58b19100aad"
      },
      "outputs": [
        {
          "name": "stdout",
          "output_type": "stream",
          "text": [
            "rangking terurut:  [('Faruq Regency', array([0.33689612])), ('Nafisa Regency', array([0.24780824])), ('Fakhri Regency', array([0.2337346])), ('Aisha Regency', array([0.18156103]))]\n",
            "Perusahaan terpilih adalah: Faruq Regency dengan nilai  [0.33689612]\n"
          ]
        }
      ],
      "source": [
        "sorted_rangking = sorted(rangking.items(), key=lambda x: x[1], reverse=True)\n",
        "print(\"rangking terurut: \", sorted_rangking)\n",
        "print(\n",
        "    \"Perusahaan terpilih adalah:\",\n",
        "    sorted_rangking[0][0],\n",
        "    \"dengan nilai \",\n",
        "    sorted_rangking[0][1],\n",
        ")"
      ]
    }
  ],
  "metadata": {
    "colab": {
      "provenance": []
    },
    "kernelspec": {
      "display_name": "venv",
      "language": "python",
      "name": "python3"
    },
    "language_info": {
      "codemirror_mode": {
        "name": "ipython",
        "version": 3
      },
      "file_extension": ".py",
      "mimetype": "text/x-python",
      "name": "python",
      "nbconvert_exporter": "python",
      "pygments_lexer": "ipython3",
      "version": "3.13.2"
    }
  },
  "nbformat": 4,
  "nbformat_minor": 0
}
