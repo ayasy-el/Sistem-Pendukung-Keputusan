{
 "cells": [
  {
   "cell_type": "code",
   "execution_count": 1,
   "metadata": {},
   "outputs": [],
   "source": [
    "data = {\n",
    "    'E1': {'K1': 0.5, 'K2': 1, 'K3': 0.7, 'K4': 0.7, 'K5': 0.8},\n",
    "    'E2': {'K1': 0.8, 'K2': 0.7, 'K3': 1, 'K4': 0.5, 'K5': 1},\n",
    "    'E3': {'K1': 1, 'K2': 0.3, 'K3': 0.4, 'K4': 0.7, 'K5': 1},\n",
    "    'E4': {'K1': 0.2, 'K2': 1, 'K3': 0.5, 'K4': 0.9, 'K5': 0.7},\n",
    "    'E5': {'K1': 1, 'K2': 0.7, 'K3': 0.4, 'K4': 0.7, 'K5': 1},\n",
    "}"
   ]
  },
  {
   "cell_type": "code",
   "execution_count": 2,
   "metadata": {},
   "outputs": [],
   "source": [
    "kriteria = {\n",
    "    'K1': {'bobot': 0.3},\n",
    "    'K2': {'bobot': 0.2},\n",
    "    'K3': {'bobot': 0.2},\n",
    "    'K4': {'bobot': 0.15},\n",
    "    'K5': {'bobot': 0.15},\n",
    "}"
   ]
  },
  {
   "cell_type": "code",
   "execution_count": 3,
   "metadata": {},
   "outputs": [
    {
     "name": "stdout",
     "output_type": "stream",
     "text": [
      "Nilai Min dan Max untuk setiap kriteria: {'K1': {'min': 0.2, 'max': 1}, 'K2': {'min': 0.3, 'max': 1}, 'K3': {'min': 0.4, 'max': 1}, 'K4': {'min': 0.5, 'max': 0.9}, 'K5': {'min': 0.7, 'max': 1}}\n"
     ]
    }
   ],
   "source": [
    "min_max = {}\n",
    "for key in kriteria.keys():\n",
    "    values = [data[alt][key] for alt in data]\n",
    "    min_max[key] = {'min': min(values), 'max': max(values)}\n",
    "print(\"Nilai Min dan Max untuk setiap kriteria:\", min_max)\n"
   ]
  },
  {
   "cell_type": "code",
   "execution_count": 4,
   "metadata": {},
   "outputs": [
    {
     "name": "stdout",
     "output_type": "stream",
     "text": [
      "Matriks Normalisasi: {'E1': {'K1': 0.37499999999999994, 'K2': 1.0, 'K3': 0.4999999999999999, 'K4': 0.4999999999999999, 'K5': 0.3333333333333336}, 'E2': {'K1': 0.7500000000000001, 'K2': 0.5714285714285714, 'K3': 1.0, 'K4': 0.0, 'K5': 1.0}, 'E3': {'K1': 1.0, 'K2': 0.0, 'K3': 0.0, 'K4': 0.4999999999999999, 'K5': 1.0}, 'E4': {'K1': 0.0, 'K2': 1.0, 'K3': 0.16666666666666663, 'K4': 1.0, 'K5': 0.0}, 'E5': {'K1': 1.0, 'K2': 0.5714285714285714, 'K3': 0.0, 'K4': 0.4999999999999999, 'K5': 1.0}}\n"
     ]
    }
   ],
   "source": [
    "normalized_data = {}\n",
    "for alt, vals in data.items():\n",
    "    normalized_data[alt] = {\n",
    "        key: (val - min_max[key]['min']) / (min_max[key]['max'] - min_max[key]['min'])\n",
    "        for key, val in vals.items()\n",
    "    }\n",
    "print(\"Matriks Normalisasi:\", normalized_data)"
   ]
  },
  {
   "cell_type": "code",
   "execution_count": 5,
   "metadata": {},
   "outputs": [
    {
     "name": "stdout",
     "output_type": "stream",
     "text": [
      "Nilai akhir untuk E1: 0.5375\n",
      "Nilai akhir untuk E2: 0.6893\n",
      "Nilai akhir untuk E3: 0.5250\n",
      "Nilai akhir untuk E4: 0.3833\n",
      "Nilai akhir untuk E5: 0.6393\n"
     ]
    }
   ],
   "source": [
    "final_scores = {}\n",
    "for alt, norm_vals in normalized_data.items():\n",
    "    final_scores[alt] = sum(norm_vals[key] * kriteria[key]['bobot'] for key in kriteria)\n",
    "    print(f\"Nilai akhir untuk {alt}: {final_scores[alt]:.4f}\")\n"
   ]
  },
  {
   "cell_type": "code",
   "execution_count": 6,
   "metadata": {},
   "outputs": [
    {
     "name": "stdout",
     "output_type": "stream",
     "text": [
      "\n",
      "Peringkat Alternatif:\n",
      "1. E2 -> Skor: 0.6893\n",
      "2. E5 -> Skor: 0.6393\n",
      "3. E1 -> Skor: 0.5375\n",
      "4. E3 -> Skor: 0.5250\n",
      "5. E4 -> Skor: 0.3833\n"
     ]
    }
   ],
   "source": [
    "ranking = sorted(final_scores.items(), key=lambda x: x[1], reverse=True)\n",
    "print(\"\\nPeringkat Alternatif:\")\n",
    "for rank, (alt, score) in enumerate(ranking, start=1):\n",
    "    print(f\"{rank}. {alt} -> Skor: {score:.4f}\")"
   ]
  }
 ],
 "metadata": {
  "kernelspec": {
   "display_name": ".venv",
   "language": "python",
   "name": "python3"
  },
  "language_info": {
   "codemirror_mode": {
    "name": "ipython",
    "version": 3
   },
   "file_extension": ".py",
   "mimetype": "text/x-python",
   "name": "python",
   "nbconvert_exporter": "python",
   "pygments_lexer": "ipython3",
   "version": "3.12.7"
  }
 },
 "nbformat": 4,
 "nbformat_minor": 2
}
