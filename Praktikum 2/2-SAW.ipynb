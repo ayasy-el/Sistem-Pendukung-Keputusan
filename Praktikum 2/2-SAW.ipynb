{
 "cells": [
  {
   "cell_type": "code",
   "execution_count": 1,
   "metadata": {},
   "outputs": [],
   "source": [
    "kriteria = {\n",
    "  \"k1\": {\"bobot\":0.3, \"atribut\":\"benefit\"},\n",
    "  \"k2\": {\"bobot\":0.2, \"atribut\":\"benefit\"},\n",
    "  \"k3\": {\"bobot\":0.2, \"atribut\":\"benefit\"},\n",
    "  \"k4\": {\"bobot\":0.15, \"atribut\":\"cost\"},\n",
    "  \"k5\": {\"bobot\":0.15, \"atribut\":\"cost\"},\n",
    "}"
   ]
  },
  {
   "cell_type": "code",
   "execution_count": 2,
   "metadata": {},
   "outputs": [],
   "source": [
    "import pandas as pd\n",
    "data = pd.read_csv(\"data.csv\", index_col=\"kandidat\")"
   ]
  },
  {
   "cell_type": "code",
   "execution_count": 3,
   "metadata": {},
   "outputs": [
    {
     "name": "stdout",
     "output_type": "stream",
     "text": [
      "Maxmin : [1.0, 1.0, 1.0, 0.5, 0.7]\n"
     ]
    }
   ],
   "source": [
    "maxmin = []\n",
    "for key in kriteria:\n",
    "  if kriteria[key]['atribut'] == \"benefit\":\n",
    "    maxmin.append(float(data[key].max()))\n",
    "  else:\n",
    "    maxmin.append(float(data[key].min()))\n",
    "\n",
    "print(\"Maxmin :\",maxmin)"
   ]
  },
  {
   "cell_type": "code",
   "execution_count": 4,
   "metadata": {},
   "outputs": [
    {
     "data": {
      "text/plain": [
       "[0.3, 0.2, 0.2, 0.15, 0.15]"
      ]
     },
     "execution_count": 4,
     "metadata": {},
     "output_type": "execute_result"
    }
   ],
   "source": [
    "bobot  = [kriteria[i][\"bobot\"] for i in kriteria]\n",
    "bobot"
   ]
  },
  {
   "cell_type": "code",
   "execution_count": 5,
   "metadata": {},
   "outputs": [
    {
     "name": "stdout",
     "output_type": "stream",
     "text": [
      "[[0.5, 1.0, 0.7, 0.7142857142857143, 0.8749999999999999], [0.8, 0.7, 1.0, 1.0, 0.7], [1.0, 0.3, 0.4, 0.7142857142857143, 0.7], [0.2, 1.0, 0.5, 0.5555555555555556, 1.0], [1.0, 0.7, 0.4, 0.7142857142857143, 0.7]]\n",
      "[0.7283928571428571, 0.8350000000000001, 0.6521428571428571, 0.5933333333333333, 0.7321428571428571]\n"
     ]
    }
   ],
   "source": [
    "norms = []\n",
    "v = []\n",
    "\n",
    "for _, row in data.iterrows():\n",
    "  i = 0\n",
    "  vn = 0\n",
    "  norm = []\n",
    "\n",
    "  for key, val in row.items():\n",
    "    if kriteria[key]['atribut'] == \"benefit\":\n",
    "      n = float(val)/maxmin[i]\n",
    "    else:\n",
    "      n = maxmin[i]/float(val)\n",
    "  \n",
    "    vn = vn+ n*bobot[i]\n",
    "    norm.append(n)\n",
    "    i+=1\n",
    "  \n",
    "  norms.append(norm)\n",
    "  v.append(vn)\n",
    "\n",
    "print(norms)\n",
    "print(v)"
   ]
  },
  {
   "cell_type": "code",
   "execution_count": 6,
   "metadata": {},
   "outputs": [
    {
     "name": "stdout",
     "output_type": "stream",
     "text": [
      "{'E1': 0.7283928571428571, 'E2': 0.8350000000000001, 'E3': 0.6521428571428571, 'E4': 0.5933333333333333, 'E5': 0.7321428571428571}\n"
     ]
    }
   ],
   "source": [
    "rank = {}\n",
    "i = 0\n",
    "\n",
    "for k in data.index:\n",
    "  rank[k] = v[i]\n",
    "  i+=1\n",
    "\n",
    "print(rank)"
   ]
  },
  {
   "cell_type": "code",
   "execution_count": 7,
   "metadata": {},
   "outputs": [
    {
     "name": "stdout",
     "output_type": "stream",
     "text": [
      "Hasil perhitungan dengan metode SAW:  {'E1': 0.7283928571428571, 'E2': 0.8350000000000001, 'E3': 0.6521428571428571, 'E4': 0.5933333333333333, 'E5': 0.7321428571428571}\n",
      "Rangking terurut [(0.8350000000000001, 'E2'), (0.7321428571428571, 'E5'), (0.7283928571428571, 'E1'), (0.6521428571428571, 'E3'), (0.5933333333333333, 'E4')]\n",
      "\n",
      "Calon yang terpilih ialah\n",
      "\n",
      "E2  dengan nilai :  0.8350000000000001\n",
      "E5  dengan nilai :  0.7321428571428571\n"
     ]
    }
   ],
   "source": [
    "sorted_rank = sorted([(value, key) for (key, value) in rank.items()],reverse=True)\n",
    "\n",
    "\n",
    "print(\"Hasil perhitungan dengan metode SAW: \", rank)\n",
    "print(\"Rangking terurut\", sorted_rank)\n",
    "print(\"\\nCalon yang terpilih ialah\\n\")\n",
    "print(sorted_rank[0][1],\" dengan nilai : \", sorted_rank[0][0])\n",
    "print(sorted_rank[1][1],\" dengan nilai : \", sorted_rank[1][0])"
   ]
  }
 ],
 "metadata": {
  "kernelspec": {
   "display_name": "venv",
   "language": "python",
   "name": "python3"
  },
  "language_info": {
   "codemirror_mode": {
    "name": "ipython",
    "version": 3
   },
   "file_extension": ".py",
   "mimetype": "text/x-python",
   "name": "python",
   "nbconvert_exporter": "python",
   "pygments_lexer": "ipython3",
   "version": "3.13.2"
  }
 },
 "nbformat": 4,
 "nbformat_minor": 2
}
