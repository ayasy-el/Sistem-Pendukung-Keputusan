{
 "cells": [
  {
   "cell_type": "code",
   "execution_count": 1,
   "metadata": {},
   "outputs": [],
   "source": [
    "kriteria = {\n",
    "  \"k1\":{\n",
    "    \"bobot\":0.3,\n",
    "    \"atribut\":\"benefit\"\n",
    "  },\n",
    "  \"k2\":{\n",
    "    \"bobot\":0.2,\n",
    "    \"atribut\":\"benefit\"\n",
    "  },\n",
    "  \"k3\":{\n",
    "    \"bobot\":0.2,\n",
    "    \"atribut\":\"benefit\"\n",
    "  },\n",
    "  \"k4\":{\n",
    "    \"bobot\":0.15,\n",
    "    \"atribut\":\"cost\"\n",
    "  },\n",
    "  \"k5\":{\n",
    "    \"bobot\":0.15,\n",
    "    \"atribut\":\"cost\"\n",
    "  },\n",
    "}"
   ]
  },
  {
   "cell_type": "code",
   "execution_count": 2,
   "metadata": {},
   "outputs": [],
   "source": [
    "import pandas as pd\n",
    "data = pd.read_csv(\"data.csv\")"
   ]
  },
  {
   "cell_type": "code",
   "execution_count": 3,
   "metadata": {},
   "outputs": [
    {
     "data": {
      "text/plain": [
       "0    E1\n",
       "1    E2\n",
       "2    E3\n",
       "3    E4\n",
       "4    E5\n",
       "Name: kandidat, dtype: object"
      ]
     },
     "execution_count": 3,
     "metadata": {},
     "output_type": "execute_result"
    }
   ],
   "source": [
    "data['kandidat']"
   ]
  },
  {
   "cell_type": "code",
   "execution_count": 4,
   "metadata": {},
   "outputs": [
    {
     "name": "stdout",
     "output_type": "stream",
     "text": [
      "Maxmin : [1.0, 1.0, 1.0, 0.5, 0.7]\n"
     ]
    }
   ],
   "source": [
    "maxmin = []\n",
    "for key in kriteria.keys():\n",
    "  if kriteria[key]['atribut'] == \"benefit\":\n",
    "    maxmin.append(float(data[key].max()))\n",
    "  else:\n",
    "    maxmin.append(float(data[key].min()))\n",
    "\n",
    "print(\"Maxmin :\",maxmin)"
   ]
  },
  {
   "cell_type": "code",
   "execution_count": 5,
   "metadata": {},
   "outputs": [
    {
     "data": {
      "text/plain": [
       "[0.3, 0.2, 0.2, 0.15, 0.15]"
      ]
     },
     "execution_count": 5,
     "metadata": {},
     "output_type": "execute_result"
    }
   ],
   "source": [
    "bobot  = [kriteria[i][\"bobot\"] for i in kriteria.keys()]\n",
    "bobot"
   ]
  },
  {
   "cell_type": "code",
   "execution_count": 6,
   "metadata": {},
   "outputs": [
    {
     "name": "stdout",
     "output_type": "stream",
     "text": [
      "[[2.0, 1.0, 1.4285714285714286, 0.7142857142857143, 0.8749999999999999], [1.25, 1.4285714285714286, 1.0, 1.0, 0.7], [1.0, 3.3333333333333335, 2.5, 0.7142857142857143, 0.7], [5.0, 1.0, 2.0, 0.5555555555555556, 1.0], [1.0, 1.4285714285714286, 2.5, 0.7142857142857143, 0.7]]\n",
      "[1.3241071428571431, 1.1157142857142857, 1.678809523809524, 2.3333333333333335, 1.297857142857143]\n"
     ]
    }
   ],
   "source": [
    "norms = []\n",
    "v = []\n",
    "\n",
    "for vals in data.drop(columns=[\"kandidat\"]).values:\n",
    "  i = 0\n",
    "  vn = 0\n",
    "  norm = []\n",
    "\n",
    "  for val in vals:\n",
    "    if kriteria[key]['atribut'] == \"benefit\":\n",
    "      n = float(val)/maxmin[i]\n",
    "    else:\n",
    "      n = maxmin[i]/float(val)\n",
    "  \n",
    "    vn += n*bobot[i]\n",
    "    norm.append(n)\n",
    "    i+=1\n",
    "  \n",
    "  norms.append(norm)\n",
    "  v.append(vn)\n",
    "\n",
    "\n",
    "print(norms)\n",
    "print(v)"
   ]
  },
  {
   "cell_type": "code",
   "execution_count": 7,
   "metadata": {},
   "outputs": [
    {
     "name": "stdout",
     "output_type": "stream",
     "text": [
      "{'E1': 1.3241071428571431, 'E2': 1.1157142857142857, 'E3': 1.678809523809524, 'E4': 2.3333333333333335, 'E5': 1.297857142857143}\n"
     ]
    }
   ],
   "source": [
    "rank = {}\n",
    "i = 0\n",
    "\n",
    "for k in data[\"kandidat\"]:\n",
    "  rank[k] = v[i]\n",
    "  i+=1\n",
    "\n",
    "print(rank)"
   ]
  },
  {
   "cell_type": "code",
   "execution_count": 10,
   "metadata": {},
   "outputs": [
    {
     "name": "stdout",
     "output_type": "stream",
     "text": [
      "Hasil perhitungan dengan metode SAW:  {'E1': 1.3241071428571431, 'E2': 1.1157142857142857, 'E3': 1.678809523809524, 'E4': 2.3333333333333335, 'E5': 1.297857142857143}\n",
      "Rangking terurut [(2.3333333333333335, 'E4'), (1.678809523809524, 'E3'), (1.3241071428571431, 'E1'), (1.297857142857143, 'E5'), (1.1157142857142857, 'E2')]\n",
      "\n",
      "Calon yang terpilih ialah\n",
      "\n",
      "E4  dengan nilai :  2.3333333333333335\n",
      "E3  dengan nilai :  1.678809523809524\n"
     ]
    }
   ],
   "source": [
    "sorted_rank = sorted([(value, key) for (key, value) in rank.items()],reverse=True)\n",
    "\n",
    "\n",
    "print(\"Hasil perhitungan dengan metode SAW: \", rank)\n",
    "print(\"Rangking terurut\", sorted_rank)\n",
    "print(\"\\nCalon yang terpilih ialah\\n\")\n",
    "print(sorted_rank[0][1],\" dengan nilai : \", sorted_rank[0][0])\n",
    "print(sorted_rank[1][1],\" dengan nilai : \", sorted_rank[1][0])"
   ]
  }
 ],
 "metadata": {
  "kernelspec": {
   "display_name": "venv",
   "language": "python",
   "name": "python3"
  },
  "language_info": {
   "codemirror_mode": {
    "name": "ipython",
    "version": 3
   },
   "file_extension": ".py",
   "mimetype": "text/x-python",
   "name": "python",
   "nbconvert_exporter": "python",
   "pygments_lexer": "ipython3",
   "version": "3.13.2"
  }
 },
 "nbformat": 4,
 "nbformat_minor": 2
}
