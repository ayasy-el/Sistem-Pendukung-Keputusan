{
 "cells": [
  {
   "cell_type": "code",
   "execution_count": 1,
   "metadata": {},
   "outputs": [],
   "source": [
    "data = {\n",
    "    'Produk A': {'Harga': 0.72, 'Fitur': 0.8, 'Kualitas Kamera': 0.8, 'Purna Jual': 0.75},\n",
    "    'Produk B': {'Harga': 0.6, 'Fitur': 0.6, 'Kualitas Kamera': 0.7, 'Purna Jual': 0.70},\n",
    "    'Produk C': {'Harga': 0.35, 'Fitur': 0.55, 'Kualitas Kamera': 0.72, 'Purna Jual': 0.60},\n",
    "    'Produk D': {'Harga': 0.7, 'Fitur': 0.7, 'Kualitas Kamera': 0.7, 'Purna Jual': 0.55},\n",
    "}"
   ]
  },
  {
   "cell_type": "code",
   "execution_count": null,
   "metadata": {},
   "outputs": [],
   "source": []
  },
  {
   "cell_type": "code",
   "execution_count": 2,
   "metadata": {},
   "outputs": [],
   "source": [
    "kriteria = {\n",
    "    'Harga': {'bobot': 0.25},\n",
    "    'Fitur': {'bobot': 0.3},\n",
    "    'Kualitas Kamera': {'bobot': 0.25},\n",
    "    'Purna Jual': {'bobot': 0.15},\n",
    "}"
   ]
  },
  {
   "cell_type": "code",
   "execution_count": 3,
   "metadata": {},
   "outputs": [
    {
     "name": "stdout",
     "output_type": "stream",
     "text": [
      "Nilai Min dan Max untuk setiap kriteria: {'Harga': {'min': 0.35, 'max': 0.72}, 'Fitur': {'min': 0.55, 'max': 0.8}, 'Kualitas Kamera': {'min': 0.7, 'max': 0.8}, 'Purna Jual': {'min': 0.55, 'max': 0.75}}\n"
     ]
    }
   ],
   "source": [
    "min_max = {}\n",
    "for key in kriteria.keys():\n",
    "    values = [data[alt][key] for alt in data]\n",
    "    min_max[key] = {'min': min(values), 'max': max(values)}\n",
    "print(\"Nilai Min dan Max untuk setiap kriteria:\", min_max)\n"
   ]
  },
  {
   "cell_type": "code",
   "execution_count": 4,
   "metadata": {},
   "outputs": [
    {
     "name": "stdout",
     "output_type": "stream",
     "text": [
      "Matriks Normalisasi: {'Produk A': {'Harga': 1.0, 'Fitur': 1.0, 'Kualitas Kamera': 1.0, 'Purna Jual': 1.0}, 'Produk B': {'Harga': 0.6756756756756757, 'Fitur': 0.19999999999999973, 'Kualitas Kamera': 0.0, 'Purna Jual': 0.7499999999999997}, 'Produk C': {'Harga': 0.0, 'Fitur': 0.0, 'Kualitas Kamera': 0.2, 'Purna Jual': 0.24999999999999972}, 'Produk D': {'Harga': 0.9459459459459459, 'Fitur': 0.5999999999999996, 'Kualitas Kamera': 0.0, 'Purna Jual': 0.0}}\n"
     ]
    }
   ],
   "source": [
    "normalized_data = {}\n",
    "for alt, vals in data.items():\n",
    "    normalized_data[alt] = {\n",
    "        key: (val - min_max[key]['min']) / (min_max[key]['max'] - min_max[key]['min'])\n",
    "        for key, val in vals.items()\n",
    "    }\n",
    "print(\"Matriks Normalisasi:\", normalized_data)"
   ]
  },
  {
   "cell_type": "code",
   "execution_count": 5,
   "metadata": {},
   "outputs": [
    {
     "name": "stdout",
     "output_type": "stream",
     "text": [
      "Nilai akhir untuk Produk A: 0.9500\n",
      "Nilai akhir untuk Produk B: 0.3414\n",
      "Nilai akhir untuk Produk C: 0.0875\n",
      "Nilai akhir untuk Produk D: 0.4165\n"
     ]
    }
   ],
   "source": [
    "final_scores = {}\n",
    "for alt, norm_vals in normalized_data.items():\n",
    "    final_scores[alt] = sum(norm_vals[key] * kriteria[key]['bobot'] for key in kriteria)\n",
    "    print(f\"Nilai akhir untuk {alt}: {final_scores[alt]:.4f}\")\n"
   ]
  },
  {
   "cell_type": "code",
   "execution_count": 6,
   "metadata": {},
   "outputs": [
    {
     "name": "stdout",
     "output_type": "stream",
     "text": [
      "\n",
      "Peringkat Alternatif:\n",
      "1. Produk A -> Skor: 0.9500\n",
      "2. Produk D -> Skor: 0.4165\n",
      "3. Produk B -> Skor: 0.3414\n",
      "4. Produk C -> Skor: 0.0875\n"
     ]
    }
   ],
   "source": [
    "ranking = sorted(final_scores.items(), key=lambda x: x[1], reverse=True)\n",
    "print(\"\\nPeringkat Alternatif:\")\n",
    "for rank, (alt, score) in enumerate(ranking, start=1):\n",
    "    print(f\"{rank}. {alt} -> Skor: {score:.4f}\")"
   ]
  }
 ],
 "metadata": {
  "kernelspec": {
   "display_name": "venv",
   "language": "python",
   "name": "python3"
  },
  "language_info": {
   "codemirror_mode": {
    "name": "ipython",
    "version": 3
   },
   "file_extension": ".py",
   "mimetype": "text/x-python",
   "name": "python",
   "nbconvert_exporter": "python",
   "pygments_lexer": "ipython3",
   "version": "3.13.2"
  }
 },
 "nbformat": 4,
 "nbformat_minor": 2
}
