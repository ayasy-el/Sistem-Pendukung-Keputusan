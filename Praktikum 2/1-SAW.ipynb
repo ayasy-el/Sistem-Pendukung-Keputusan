{
 "cells": [
  {
   "cell_type": "code",
   "execution_count": 1,
   "metadata": {},
   "outputs": [],
   "source": [
    "# Mentransformasikan Data ke dalam Dictionary\n",
    "data = {\n",
    "    'Produk A': {'Harga': 7200000, 'Fitur': 80, 'Kualitas Kamera': 80, 'Purna Jual': 75},\n",
    "    'Produk B': {'Harga': 6000000, 'Fitur': 60, 'Kualitas Kamera': 70, 'Purna Jual': 70},\n",
    "    'Produk C': {'Harga': 3500000, 'Fitur': 55, 'Kualitas Kamera': 72, 'Purna Jual': 60},\n",
    "    'Produk D': {'Harga': 7000000, 'Fitur': 70, 'Kualitas Kamera': 70, 'Purna Jual': 55},\n",
    "}"
   ]
  },
  {
   "cell_type": "code",
   "execution_count": 2,
   "metadata": {},
   "outputs": [
    {
     "name": "stdout",
     "output_type": "stream",
     "text": [
      "{'Harga': 7200000, 'Fitur': 80, 'Kualitas Kamera': 80, 'Purna Jual': 75}\n",
      "7200000\n",
      "dict_values([{'Harga': 7200000, 'Fitur': 80, 'Kualitas Kamera': 80, 'Purna Jual': 75}, {'Harga': 6000000, 'Fitur': 60, 'Kualitas Kamera': 70, 'Purna Jual': 70}, {'Harga': 3500000, 'Fitur': 55, 'Kualitas Kamera': 72, 'Purna Jual': 60}, {'Harga': 7000000, 'Fitur': 70, 'Kualitas Kamera': 70, 'Purna Jual': 55}])\n",
      "dict_keys(['Produk A', 'Produk B', 'Produk C', 'Produk D'])\n"
     ]
    }
   ],
   "source": [
    "print(data['Produk A'])\n",
    "print(data['Produk A']['Harga'])\n",
    "print(data.values())\n",
    "print(data.keys())"
   ]
  },
  {
   "cell_type": "code",
   "execution_count": 3,
   "metadata": {},
   "outputs": [
    {
     "name": "stdout",
     "output_type": "stream",
     "text": [
      "7200000\n",
      "75\n"
     ]
    }
   ],
   "source": [
    "maxdata1 = max(data['Produk A'].values())\n",
    "print(maxdata1)\n",
    "mindata1 = min(data['Produk A'].values())\n",
    "print(mindata1)"
   ]
  },
  {
   "cell_type": "code",
   "execution_count": 4,
   "metadata": {},
   "outputs": [],
   "source": [
    "# Mentransformasikan Bobot Kriteria ke dalam Dictionary\n",
    "kriteria = {\n",
    "    'Harga': {'bobot': 0.25, 'atribut': 'cost'},\n",
    "    'Fitur': {'bobot': 0.30, 'atribut': 'benefit'},\n",
    "    'Kualitas Kamera': {'bobot': 0.25, 'atribut': 'benefit'},\n",
    "    'Purna Jual': {'bobot': 0.15, 'atribut': 'benefit'},\n",
    "}"
   ]
  },
  {
   "cell_type": "code",
   "execution_count": 5,
   "metadata": {},
   "outputs": [
    {
     "name": "stdout",
     "output_type": "stream",
     "text": [
      "Nilai K: [7200000, 6000000, 3500000, 7000000]\n",
      "Nilai K: [80, 60, 55, 70]\n",
      "Nilai K: [80, 70, 72, 70]\n",
      "Nilai K: [75, 70, 60, 55]\n"
     ]
    }
   ],
   "source": [
    "maxmin = []\n",
    "\n",
    "for key in kriteria.keys():\n",
    "  k = [data[i][key] for i in data.keys()]\n",
    "  print(\"Nilai K:\",k)\n",
    "  if kriteria[key]['atribut']=='benefit':\n",
    "    maxmin.append(max(k))\n",
    "  else:\n",
    "    maxmin.append(min(k))"
   ]
  },
  {
   "cell_type": "code",
   "execution_count": 6,
   "metadata": {},
   "outputs": [
    {
     "name": "stdout",
     "output_type": "stream",
     "text": [
      "Nilai maxmin: [3500000, 80, 80, 75]\n"
     ]
    }
   ],
   "source": [
    "print(\"Nilai maxmin:\", maxmin)"
   ]
  },
  {
   "cell_type": "code",
   "execution_count": 7,
   "metadata": {},
   "outputs": [
    {
     "name": "stdout",
     "output_type": "stream",
     "text": [
      "nilai bobot:  [0.25, 0.3, 0.25, 0.15]\n"
     ]
    }
   ],
   "source": [
    "bobot = [kriteria[i]['bobot'] for i in kriteria.keys()]\n",
    "print('nilai bobot: ', bobot)"
   ]
  },
  {
   "cell_type": "code",
   "execution_count": 17,
   "metadata": {},
   "outputs": [
    {
     "name": "stdout",
     "output_type": "stream",
     "text": [
      "[[0.4861111111111111, 1.0, 1.0, 1.0], [0.5833333333333334, 0.75, 0.875, 0.9333333333333333], [1.0, 0.6875, 0.9, 0.8], [0.5, 0.875, 0.875, 0.7333333333333333]]\n",
      "[0.8215277777777777, 0.7295833333333334, 0.80125, 0.7162499999999999]\n"
     ]
    }
   ],
   "source": [
    "norms = []\n",
    "v = []\n",
    "\n",
    "for vals in data.values():\n",
    "  norm = []\n",
    "  i=0\n",
    "  vn =0\n",
    "\n",
    "  for key, val in vals.items():\n",
    "    if kriteria[key]['atribut']=='benefit':\n",
    "      n = val/maxmin[i]\n",
    "    else:\n",
    "      n = maxmin[i]/val\n",
    "  \n",
    "    vn += n*bobot[i]\n",
    "    norm.append(n)\n",
    "    i+=1\n",
    "\n",
    "  norms.append(norm)\n",
    "  v.append(vn)\n",
    "\n",
    "print(norms)\n",
    "print(v)\n"
   ]
  },
  {
   "cell_type": "code",
   "execution_count": 9,
   "metadata": {},
   "outputs": [
    {
     "name": "stdout",
     "output_type": "stream",
     "text": [
      "{'Produk A': 0.8215277777777777, 'Produk B': 0.7295833333333334, 'Produk C': 0.80125, 'Produk D': 0.7162499999999999}\n"
     ]
    }
   ],
   "source": [
    "rank = {}\n",
    "i = 1\n",
    "\n",
    "for key in data.keys():\n",
    "  rank[key] = v[i-1]\n",
    "  i+=1\n",
    "\n",
    "print(rank)"
   ]
  },
  {
   "cell_type": "code",
   "execution_count": 10,
   "metadata": {},
   "outputs": [
    {
     "name": "stdout",
     "output_type": "stream",
     "text": [
      "Hasil perhitungan rangking dengan metode SAW:  {'Produk A': 0.8215277777777777, 'Produk B': 0.7295833333333334, 'Produk C': 0.80125, 'Produk D': 0.7162499999999999}\n",
      "Rangking terurut [(0.8215277777777777, 'Produk A'), (0.80125, 'Produk C'), (0.7295833333333334, 'Produk B'), (0.7162499999999999, 'Produk D')]\n",
      "Merk HP yang terpilih adalah Produk A  dengan nilai :  0.8215277777777777\n"
     ]
    }
   ],
   "source": [
    "sorted_rank = sorted([(value, key) for (key, value) in rank.items()], reverse=True)\n",
    "\n",
    "print(\"Hasil perhitungan rangking dengan metode SAW: \", rank)\n",
    "print(\"Rangking terurut\", sorted_rank)\n",
    "print(\"Merk HP yang terpilih adalah\", sorted_rank[0][1],\" dengan nilai : \", sorted_rank[0][0])"
   ]
  }
 ],
 "metadata": {
  "kernelspec": {
   "display_name": "venv",
   "language": "python",
   "name": "python3"
  },
  "language_info": {
   "codemirror_mode": {
    "name": "ipython",
    "version": 3
   },
   "file_extension": ".py",
   "mimetype": "text/x-python",
   "name": "python",
   "nbconvert_exporter": "python",
   "pygments_lexer": "ipython3",
   "version": "3.13.2"
  }
 },
 "nbformat": 4,
 "nbformat_minor": 2
}
