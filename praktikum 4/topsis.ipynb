{
 "cells": [
  {
   "cell_type": "code",
   "execution_count": 1,
   "metadata": {},
   "outputs": [],
   "source": [
    "import numpy as np\n",
    "\n",
    "data = np.array(\n",
    "    [\n",
    "        [0.75, 2000, 18, 50, 500],\n",
    "        [0.50, 1500, 20, 40, 400],\n",
    "        [0.90, 2050, 35, 35, 800],\n",
    "    ]\n",
    ")"
   ]
  },
  {
   "cell_type": "code",
   "execution_count": 2,
   "metadata": {},
   "outputs": [
    {
     "name": "stdout",
     "output_type": "stream",
     "text": [
      "Bobot Kriteria : [5, 3, 4, 4, 2]\n",
      "Tipe Kriteia : ['cost', 'benefit', 'cost', 'benefit', 'cost']\n"
     ]
    }
   ],
   "source": [
    "bobot = [5, 3, 4, 4, 2]\n",
    "tipe = [\"cost\", \"benefit\", \"cost\", \"benefit\", \"cost\"]\n",
    "\n",
    "print(\"Bobot Kriteria :\", bobot)\n",
    "print(\"Tipe Kriteia :\", tipe)"
   ]
  },
  {
   "cell_type": "code",
   "execution_count": 3,
   "metadata": {},
   "outputs": [
    {
     "name": "stdout",
     "output_type": "stream",
     "text": [
      "Hasil normalisasi bobot:  [0.2778, 0.1667, 0.2222, 0.2222, 0.1111]\n"
     ]
    }
   ],
   "source": [
    "bobot_normal = [round(bobot[i] / sum(bobot), 4) for i in range(len(bobot))]\n",
    "print(\"Hasil normalisasi bobot: \", bobot_normal)"
   ]
  },
  {
   "cell_type": "code",
   "execution_count": 4,
   "metadata": {},
   "outputs": [
    {
     "name": "stdout",
     "output_type": "stream",
     "text": [
      "hasil normalisasi kriteria:  [[0.5888015  0.61861423 0.40772429 0.68518871 0.48795004]\n",
      " [0.39253434 0.46396067 0.45302699 0.54815097 0.39036003]\n",
      " [0.7065618  0.63407959 0.79279723 0.4796321  0.78072006]]\n"
     ]
    }
   ],
   "source": [
    "normalisasi = data / np.sqrt(np.sum(data**2, axis=0))\n",
    "print(\"hasil normalisasi kriteria: \", normalisasi)"
   ]
  },
  {
   "cell_type": "code",
   "execution_count": 5,
   "metadata": {},
   "outputs": [
    {
     "name": "stdout",
     "output_type": "stream",
     "text": [
      "Hasil normalisasi terbobot:  [[0.16356906 0.10312299 0.09059634 0.15224893 0.05421125]\n",
      " [0.10904604 0.07734224 0.1006626  0.12179915 0.043369  ]\n",
      " [0.19628287 0.10570107 0.17615954 0.10657425 0.086738  ]]\n"
     ]
    }
   ],
   "source": [
    "norm_terbobot = normalisasi * bobot_normal\n",
    "print(\"Hasil normalisasi terbobot: \", norm_terbobot)"
   ]
  },
  {
   "cell_type": "code",
   "execution_count": 6,
   "metadata": {},
   "outputs": [
    {
     "name": "stdout",
     "output_type": "stream",
     "text": [
      "Solusi ideal positif:  [np.float64(0.10904603853786358), np.float64(0.10570106735411468), np.float64(0.09059633732432489), np.float64(0.1522489313236775), np.float64(0.04336899924183282)]\n",
      "Solusi ideal negatif:  [np.float64(0.19628286936815448), np.float64(0.07734224440544976), np.float64(0.1761595447972984), np.float64(0.10657425192657427), np.float64(0.08673799848366565)]\n"
     ]
    }
   ],
   "source": [
    "ideal_positif = []\n",
    "ideal_negatif = []\n",
    "\n",
    "for i in range(len(tipe)):\n",
    "    max = norm_terbobot[:, i].max()\n",
    "    min = norm_terbobot[:, i].min()\n",
    "    if tipe[i] == \"benefit\":\n",
    "        ideal_positif.append(max)\n",
    "        ideal_negatif.append(min)\n",
    "    else:\n",
    "        ideal_positif.append(min)\n",
    "        ideal_negatif.append(max)\n",
    "\n",
    "print(\"Solusi ideal positif: \", ideal_positif)\n",
    "print(\"Solusi ideal negatif: \", ideal_negatif)"
   ]
  },
  {
   "cell_type": "code",
   "execution_count": 7,
   "metadata": {},
   "outputs": [
    {
     "name": "stdout",
     "output_type": "stream",
     "text": [
      "Jarak positif:  [0.05565034 0.04281054 0.13747136]\n",
      "Jarak negatif:  [0.11045392 0.12418825 0.02835882]\n"
     ]
    }
   ],
   "source": [
    "jarak_positif = np.sqrt(np.sum((norm_terbobot - ideal_positif) ** 2, axis=1))\n",
    "jarak_negatif = np.sqrt(np.sum((norm_terbobot - ideal_negatif) ** 2, axis=1))\n",
    "print(\"Jarak positif: \", jarak_positif)\n",
    "print(\"Jarak negatif: \", jarak_negatif)"
   ]
  },
  {
   "cell_type": "code",
   "execution_count": 8,
   "metadata": {},
   "outputs": [
    {
     "name": "stdout",
     "output_type": "stream",
     "text": [
      "Nilai TOPSIS:  [0.66496741 0.74364762 0.17101123]\n",
      "Hasil peringkat\n",
      "Alternatif 2: 0.743647624727083\n",
      "Alternatif 1: 0.6649674098133458\n",
      "Alternatif 3: 0.17101123105874658\n",
      "\n",
      "Alternatif terbaik:  2\n"
     ]
    }
   ],
   "source": [
    "nilai_topsis = jarak_negatif / (jarak_positif + jarak_negatif)\n",
    "rangking = np.argsort(nilai_topsis)[::-1]\n",
    "print(\"Nilai TOPSIS: \", nilai_topsis)\n",
    "\n",
    "print(\"Hasil peringkat\")\n",
    "for i, idx in enumerate(rangking):\n",
    "    print(f\"Alternatif {idx + 1}: {nilai_topsis[idx]}\")\n",
    "\n",
    "best_alternatif = rangking[0] + 1\n",
    "print(\"\\nAlternatif terbaik: \", best_alternatif)"
   ]
  },
  {
   "cell_type": "code",
   "execution_count": 9,
   "metadata": {},
   "outputs": [
    {
     "name": "stdout",
     "output_type": "stream",
     "text": [
      "Nilai TOPSIS:  [0.33503259 0.25635238 0.82898877]\n",
      "Hasil peringkat\n",
      "Alternatif 2: 0.256352375272917\n",
      "Alternatif 1: 0.33503259018665416\n",
      "Alternatif 3: 0.8289887689412534\n",
      "\n",
      "Alternatif terbaik:  2\n"
     ]
    }
   ],
   "source": [
    "nilai_topsis = jarak_positif / (jarak_positif + jarak_negatif)\n",
    "rangking = np.argsort(nilai_topsis)\n",
    "print(\"Nilai TOPSIS: \", nilai_topsis)\n",
    "\n",
    "print(\"Hasil peringkat\")\n",
    "for i, idx in enumerate(rangking):\n",
    "    print(f\"Alternatif {idx + 1}: {nilai_topsis[idx]}\")\n",
    "\n",
    "best_alternatif = rangking[0] + 1\n",
    "print(\"\\nAlternatif terbaik: \", best_alternatif)"
   ]
  }
 ],
 "metadata": {
  "kernelspec": {
   "display_name": "venv",
   "language": "python",
   "name": "python3"
  },
  "language_info": {
   "codemirror_mode": {
    "name": "ipython",
    "version": 3
   },
   "file_extension": ".py",
   "mimetype": "text/x-python",
   "name": "python",
   "nbconvert_exporter": "python",
   "pygments_lexer": "ipython3",
   "version": "3.13.2"
  }
 },
 "nbformat": 4,
 "nbformat_minor": 2
}
