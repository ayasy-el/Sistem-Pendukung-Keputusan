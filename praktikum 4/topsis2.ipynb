{
 "cells": [
  {
   "cell_type": "code",
   "execution_count": 1,
   "metadata": {},
   "outputs": [],
   "source": [
    "import numpy as np\n",
    "import pandas as pd\n",
    "\n",
    "data = np.array(\n",
    "    [\n",
    "        [4, 3, 2],\n",
    "        [4, 4, 2],\n",
    "        [3, 3, 3],\n",
    "        [4, 2, 2],\n",
    "    ]\n",
    ")"
   ]
  },
  {
   "cell_type": "code",
   "execution_count": 2,
   "metadata": {},
   "outputs": [
    {
     "name": "stdout",
     "output_type": "stream",
     "text": [
      "Bobot Kriteria : [0.3, 0.45, 0.25]\n",
      "Tipe Kriteia : ['benefit', 'cost', 'cost']\n"
     ]
    }
   ],
   "source": [
    "bobot = [0.3, 0.45, 0.25]\n",
    "tipe = [\"benefit\", \"cost\", \"cost\"]\n",
    "\n",
    "print(\"Bobot Kriteria :\", bobot)\n",
    "print(\"Tipe Kriteia :\", tipe)"
   ]
  },
  {
   "cell_type": "code",
   "execution_count": 3,
   "metadata": {},
   "outputs": [
    {
     "name": "stdout",
     "output_type": "stream",
     "text": [
      "Hasil normalisasi bobot:  [0.3, 0.45, 0.25]\n"
     ]
    }
   ],
   "source": [
    "bobot_normal = [round(bobot[i] / sum(bobot), 4) for i in range(len(bobot))]\n",
    "print(\"Hasil normalisasi bobot: \", bobot_normal)"
   ]
  },
  {
   "cell_type": "code",
   "execution_count": 4,
   "metadata": {},
   "outputs": [
    {
     "name": "stdout",
     "output_type": "stream",
     "text": [
      "hasil normalisasi kriteria:  [[0.52981294 0.48666426 0.43643578]\n",
      " [0.52981294 0.64888568 0.43643578]\n",
      " [0.39735971 0.48666426 0.65465367]\n",
      " [0.52981294 0.32444284 0.43643578]]\n"
     ]
    }
   ],
   "source": [
    "normalisasi = data / np.sqrt(np.sum(data**2, axis=0))\n",
    "print(\"hasil normalisasi kriteria: \", normalisasi)"
   ]
  },
  {
   "cell_type": "code",
   "execution_count": 5,
   "metadata": {},
   "outputs": [
    {
     "name": "stdout",
     "output_type": "stream",
     "text": [
      "Hasil normalisasi terbobot:  [[0.15894388 0.21899892 0.10910895]\n",
      " [0.15894388 0.29199856 0.10910895]\n",
      " [0.11920791 0.21899892 0.16366342]\n",
      " [0.15894388 0.14599928 0.10910895]]\n"
     ]
    }
   ],
   "source": [
    "norm_terbobot = normalisasi * bobot_normal\n",
    "print(\"Hasil normalisasi terbobot: \", norm_terbobot)"
   ]
  },
  {
   "cell_type": "code",
   "execution_count": 6,
   "metadata": {},
   "outputs": [
    {
     "name": "stdout",
     "output_type": "stream",
     "text": [
      "Solusi ideal positif:  [np.float64(0.15894388284780525), np.float64(0.1459992790176863), np.float64(0.1091089451179962)]\n",
      "Solusi ideal negatif:  [np.float64(0.11920791213585394), np.float64(0.2919985580353726), np.float64(0.1636634176769943)]\n"
     ]
    }
   ],
   "source": [
    "ideal_positif = []\n",
    "ideal_negatif = []\n",
    "\n",
    "for i in range(len(tipe)):\n",
    "    max = norm_terbobot[:, i].max()\n",
    "    min = norm_terbobot[:, i].min()\n",
    "    if tipe[i] == \"benefit\":\n",
    "        ideal_positif.append(max)\n",
    "        ideal_negatif.append(min)\n",
    "    else:\n",
    "        ideal_positif.append(min)\n",
    "        ideal_negatif.append(max)\n",
    "\n",
    "print(\"Solusi ideal positif: \", ideal_positif)\n",
    "print(\"Solusi ideal negatif: \", ideal_negatif)"
   ]
  },
  {
   "cell_type": "code",
   "execution_count": 7,
   "metadata": {},
   "outputs": [
    {
     "name": "stdout",
     "output_type": "stream",
     "text": [
      "Jarak positif:  [0.07299964 0.14599928 0.09941874 0.        ]\n",
      "Jarak negatif:  [0.09941874 0.06749176 0.07299964 0.16084442]\n"
     ]
    }
   ],
   "source": [
    "jarak_positif = np.sqrt(np.sum((norm_terbobot - ideal_positif) ** 2, axis=1))\n",
    "jarak_negatif = np.sqrt(np.sum((norm_terbobot - ideal_negatif) ** 2, axis=1))\n",
    "print(\"Jarak positif: \", jarak_positif)\n",
    "print(\"Jarak negatif: \", jarak_negatif)"
   ]
  },
  {
   "cell_type": "code",
   "execution_count": 8,
   "metadata": {},
   "outputs": [
    {
     "name": "stdout",
     "output_type": "stream",
     "text": [
      "Nilai TOPSIS:  [0.57661335 0.31613393 0.42338665 1.        ]\n",
      "Hasil peringkat\n",
      "Alternatif 4: 1.0\n",
      "Alternatif 1: 0.5766133453917497\n",
      "Alternatif 3: 0.42338665460825053\n",
      "Alternatif 2: 0.3161339286455639\n",
      "\n",
      "Alternatif terbaik:  4\n"
     ]
    }
   ],
   "source": [
    "nilai_topsis = jarak_negatif / (jarak_positif + jarak_negatif)\n",
    "rangking = np.argsort(nilai_topsis)[::-1]\n",
    "print(\"Nilai TOPSIS: \", nilai_topsis)\n",
    "\n",
    "print(\"Hasil peringkat\")\n",
    "for i, idx in enumerate(rangking):\n",
    "    print(f\"Alternatif {idx + 1}: {nilai_topsis[idx]}\")\n",
    "\n",
    "best_alternatif = rangking[0] + 1\n",
    "print(\"\\nAlternatif terbaik: \", best_alternatif)"
   ]
  },
  {
   "cell_type": "code",
   "execution_count": 9,
   "metadata": {},
   "outputs": [
    {
     "name": "stdout",
     "output_type": "stream",
     "text": [
      "Nilai TOPSIS:  [0.42338665 0.68386607 0.57661335 0.        ]\n",
      "Hasil peringkat\n",
      "Alternatif 4: 0.0\n",
      "Alternatif 1: 0.42338665460825037\n",
      "Alternatif 3: 0.5766133453917495\n",
      "Alternatif 2: 0.683866071354436\n",
      "\n",
      "Alternatif terbaik:  4\n"
     ]
    }
   ],
   "source": [
    "nilai_topsis = jarak_positif / (jarak_positif + jarak_negatif)\n",
    "rangking = np.argsort(nilai_topsis)\n",
    "print(\"Nilai TOPSIS: \", nilai_topsis)\n",
    "\n",
    "print(\"Hasil peringkat\")\n",
    "for i, idx in enumerate(rangking):\n",
    "    print(f\"Alternatif {idx + 1}: {nilai_topsis[idx]}\")\n",
    "\n",
    "best_alternatif = rangking[0] + 1\n",
    "print(\"\\nAlternatif terbaik: \", best_alternatif)"
   ]
  }
 ],
 "metadata": {
  "kernelspec": {
   "display_name": "venv",
   "language": "python",
   "name": "python3"
  },
  "language_info": {
   "codemirror_mode": {
    "name": "ipython",
    "version": 3
   },
   "file_extension": ".py",
   "mimetype": "text/x-python",
   "name": "python",
   "nbconvert_exporter": "python",
   "pygments_lexer": "ipython3",
   "version": "3.13.2"
  }
 },
 "nbformat": 4,
 "nbformat_minor": 2
}
